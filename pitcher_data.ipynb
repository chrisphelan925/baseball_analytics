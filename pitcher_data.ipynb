{
 "cells": [
  {
   "cell_type": "code",
   "execution_count": 1,
   "metadata": {},
   "outputs": [
    {
     "name": "stdout",
     "output_type": "stream",
     "text": [
      "Gathering player lookup table. This may take a moment.\n",
      "Gathering Player Data\n"
     ]
    }
   ],
   "source": [
    "from pybaseball import statcast_pitcher\n",
    "from pybaseball import playerid_lookup\n",
    "\n",
    "# find Chris Sale's player id (mlbam_key)\n",
    "playerid_lookup('sale','chris')\n",
    "\n",
    "# get all available data\n",
    "data = statcast_pitcher('2008-04-01', '2017-07-15', player_id = 519242)"
   ]
  },
  {
   "cell_type": "code",
   "execution_count": null,
   "metadata": {},
   "outputs": [],
   "source": []
  }
 ],
 "metadata": {
  "kernelspec": {
   "display_name": "Python 3",
   "language": "python",
   "name": "python3"
  },
  "language_info": {
   "codemirror_mode": {
    "name": "ipython",
    "version": 3
   },
   "file_extension": ".py",
   "mimetype": "text/x-python",
   "name": "python",
   "nbconvert_exporter": "python",
   "pygments_lexer": "ipython3",
   "version": "3.7.1"
  }
 },
 "nbformat": 4,
 "nbformat_minor": 2
}
